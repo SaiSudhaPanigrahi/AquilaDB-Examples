{
 "cells": [
  {
   "cell_type": "markdown",
   "metadata": {},
   "source": [
    "To get started, you need docker installed already in your system and run [ammaorg/aquiladb](https://hub.docker.com/r/ammaorg/aquiladb) docker container. [Here](https://github.com/a-mma/AquilaDB#usage) are the setup instructions."
   ]
  },
  {
   "cell_type": "markdown",
   "metadata": {},
   "source": [
    "### setup GRPC helper functions"
   ]
  },
  {
   "cell_type": "markdown",
   "metadata": {},
   "source": [
    "#### install grpc"
   ]
  },
  {
   "cell_type": "markdown",
   "metadata": {},
   "source": [
    "Execute below commands in your terminal to make `GRPC` available in your system. We will be using `GRPC` for communication with the AquilaDB container.\n",
    "\n",
    "!pip install grpcio\n",
    "\n",
    "!pip install protobuf"
   ]
  },
  {
   "cell_type": "markdown",
   "metadata": {},
   "source": [
    "#### Import grpc, proto etc\n",
    "\n",
    "You need to copy `vecdb_pb2.py` and `vecdb_pb2_grpc.py` files from `<AquilaDb source directory>/src/proto` to the working directory to make sure below imports will work."
   ]
  },
  {
   "cell_type": "code",
   "execution_count": 90,
   "metadata": {},
   "outputs": [],
   "source": [
    "from __future__ import print_function\n",
    "\n",
    "import grpc\n",
    "\n",
    "import vecdb_pb2\n",
    "import vecdb_pb2_grpc"
   ]
  },
  {
   "cell_type": "markdown",
   "metadata": {},
   "source": [
    "#### create client connection\n",
    "\n",
    "Now, let's create a `GRPC` channel between AquilaDB docker container and this notebook."
   ]
  },
  {
   "cell_type": "code",
   "execution_count": 91,
   "metadata": {},
   "outputs": [],
   "source": [
    "channel = grpc.insecure_channel('localhost:50051')\n",
    "stub = vecdb_pb2_grpc.VecdbServiceStub(channel)"
   ]
  },
  {
   "cell_type": "markdown",
   "metadata": {},
   "source": [
    "#### create helper functions\n",
    "\n",
    "Below are some helper functions that we will be using in this tutorial to interact with AquilaDB APIs. You don't need to worry about these now. We are planning to release client libraries for Node JS and Python ASAP, which will make your life easier."
   ]
  },
  {
   "cell_type": "code",
   "execution_count": 3,
   "metadata": {},
   "outputs": [],
   "source": [
    "# API interface to add documents to AquilaDB\n",
    "def addDocuments (documents_in):\n",
    "    response = stub.addDocuments(vecdb_pb2.addDocRequest(documents=documents_in))\n",
    "    return response"
   ]
  },
  {
   "cell_type": "code",
   "execution_count": 4,
   "metadata": {},
   "outputs": [],
   "source": [
    "import base64\n",
    "import json\n",
    "\n",
    "# helper function to convert native data to API friendly data\n",
    "def convertDocuments(vector, document):\n",
    "    return {\n",
    "            \"vector\": {\n",
    "                \"e\": vector\n",
    "            },\n",
    "            \"b64data\": json.dumps(document, separators=(',', ':')).encode('utf-8')\n",
    "        }"
   ]
  },
  {
   "cell_type": "code",
   "execution_count": null,
   "metadata": {},
   "outputs": [],
   "source": [
    "# API interface to get nearest documents from AquilaDB\n",
    "def getNearest (matrix_in, k_in):\n",
    "    response = stub.getNearest(vecdb_pb2.getNearestRequest(matrix=matrix_in, k=k_in))\n",
    "    return response"
   ]
  },
  {
   "cell_type": "code",
   "execution_count": null,
   "metadata": {},
   "outputs": [],
   "source": [
    "# helper function to convert native data to API friendly data\n",
    "def convertMatrix(vector):\n",
    "    return [{\n",
    "            \"e\": vector\n",
    "    }]"
   ]
  },
  {
   "cell_type": "markdown",
   "metadata": {},
   "source": [
    "### Load MNIST data\n",
    "\n",
    "Now let's load MNIST data."
   ]
  },
  {
   "cell_type": "code",
   "execution_count": 92,
   "metadata": {},
   "outputs": [],
   "source": [
    "# Helper function to load MNIST data from disk\n",
    "import numpy as np \n",
    "def load_data(path):\n",
    "    with np.load(path) as f:\n",
    "        x_train, y_train = f['x_train'], f['y_train']\n",
    "        x_test, y_test = f['x_test'], f['y_test']\n",
    "        return (x_train, y_train), (x_test, y_test)"
   ]
  },
  {
   "cell_type": "markdown",
   "metadata": {},
   "source": [
    "##### Get MNIST dataset\n",
    "\n",
    "Make sure that, you have downloaded Numpy friendly dump of MNIST dataset from [here at Kaggle](https://www.kaggle.com/vikramtiwari/mnist-numpy)"
   ]
  },
  {
   "cell_type": "code",
   "execution_count": 93,
   "metadata": {},
   "outputs": [],
   "source": [
    "# specify the location of downloaded dataset\n",
    "# load data into x_train and y_train as image, label respectively.\n",
    "\n",
    "(x_train, y_train), (x_test, y_test) = load_data('./mnist.npz')"
   ]
  },
  {
   "cell_type": "code",
   "execution_count": 94,
   "metadata": {},
   "outputs": [
    {
     "name": "stdout",
     "output_type": "stream",
     "text": [
      "(60000, 28, 28)\n",
      "(60000,)\n",
      "(784,)\n"
     ]
    }
   ],
   "source": [
    "# Let's see if everything is properly loaded\n",
    "\n",
    "print(x_train.shape)\n",
    "print(y_train.shape)\n",
    "print(x_train[0].flatten().shape)"
   ]
  },
  {
   "cell_type": "markdown",
   "metadata": {},
   "source": [
    "###### see contents\n",
    "\n",
    "We use matplotlib to plot our images. Let's see if we can plot one from our dataset."
   ]
  },
  {
   "cell_type": "code",
   "execution_count": 95,
   "metadata": {},
   "outputs": [
    {
     "data": {
      "image/png": "[encoded data removed]",
      "text/plain": [
       "<Figure size 432x288 with 1 Axes>"
      ]
     },
     "metadata": {
      "needs_background": "light"
     },
     "output_type": "display_data"
    }
   ],
   "source": [
    "from matplotlib import pyplot as plt\n",
    "\n",
    "# we're going to plot 15th image from our dataset\n",
    "index = 15\n",
    "\n",
    "pixels = np.array(x_train[index], dtype='uint8')\n",
    "label = y_train[index]\n",
    "plt.title('Label is {label}'.format(label=label))\n",
    "plt.imshow(pixels, cmap='gray')\n",
    "plt.show()"
   ]
  },
  {
   "cell_type": "markdown",
   "metadata": {},
   "source": [
    "#### Send documents\n",
    "\n",
    "Everything is setup. Now it's time to work with AquilaDB and see what it can do.\n",
    "\n",
    "Let's send some documents to DB. Actually, 10201 documents, each containing a single image from MNIST dataset, along with some metadata information. We send image label as metadata information for now, you can send anything that you want to store.\n",
    "\n",
    "Also note that - by default, you need to send documents not less than 10,000. It is the least number of documents you must keep inside the DB before doing anything else. If you don't have this much data and you don't want to work with this much data, we're sorry, this is not the right place for you..\n",
    "\n",
    "You can configure the database to meet your requirements by balancing `speed vs accuracy vs data size`. We will discuss that in another tutorial."
   ]
  },
  {
   "cell_type": "code",
   "execution_count": 19,
   "metadata": {},
   "outputs": [
    {
     "name": "stdout",
     "output_type": "stream",
     "text": [
      "index: 0 inserted: 1\n",
      "index: 200 inserted: 200\n",
      "index: 400 inserted: 200\n",
      "index: 600 inserted: 200\n",
      "index: 800 inserted: 200\n",
      "index: 1000 inserted: 200\n",
      "index: 1200 inserted: 200\n",
      "index: 1400 inserted: 200\n",
      "index: 1600 inserted: 200\n",
      "index: 1800 inserted: 200\n",
      "index: 2000 inserted: 200\n",
      "index: 2200 inserted: 200\n",
      "index: 2400 inserted: 200\n",
      "index: 2600 inserted: 200\n",
      "index: 2800 inserted: 200\n",
      "index: 3000 inserted: 200\n",
      "index: 3200 inserted: 200\n",
      "index: 3400 inserted: 200\n",
      "index: 3600 inserted: 200\n",
      "index: 3800 inserted: 200\n",
      "index: 4000 inserted: 200\n",
      "index: 4200 inserted: 200\n",
      "index: 4400 inserted: 200\n",
      "index: 4600 inserted: 200\n",
      "index: 4800 inserted: 200\n",
      "index: 5000 inserted: 200\n",
      "index: 5200 inserted: 200\n",
      "index: 5400 inserted: 200\n",
      "index: 5600 inserted: 200\n",
      "index: 5800 inserted: 200\n",
      "index: 6000 inserted: 200\n",
      "index: 6200 inserted: 200\n",
      "index: 6400 inserted: 200\n",
      "index: 6600 inserted: 200\n",
      "index: 6800 inserted: 200\n",
      "index: 7000 inserted: 200\n",
      "index: 7200 inserted: 200\n",
      "index: 7400 inserted: 200\n",
      "index: 7600 inserted: 200\n",
      "index: 7800 inserted: 200\n",
      "index: 8000 inserted: 200\n",
      "index: 8200 inserted: 200\n",
      "index: 8400 inserted: 200\n",
      "index: 8600 inserted: 200\n",
      "index: 8800 inserted: 200\n",
      "index: 9000 inserted: 200\n",
      "index: 9200 inserted: 200\n",
      "index: 9400 inserted: 200\n",
      "index: 9600 inserted: 200\n",
      "index: 9800 inserted: 200\n",
      "index: 10000 inserted: 200\n",
      "index: 10200 inserted: 200\n"
     ]
    }
   ],
   "source": [
    "import time \n",
    "\n",
    "# to keep the generated documents to be sent to DB\n",
    "docs_gen = []\n",
    "# based on your system's processing power, you can choose a decent value for batch size.\n",
    "# Our program will send `batch size` documents to DB and wait 1 second before sending another.\n",
    "# this is not to blow up CPU and memory while you send large amount of data to DB\n",
    "# you might ask, if this a `problem` that I need to wait until DB digest each chunk properly and is a waste of time?\n",
    "# It is not. We will discuss where AquilaDB filts well and how P2P replication handles this smoothly.\n",
    "# We will also discuss the best practices and see why this is not a big deal in production \n",
    "# in another tutorial or blog posts.\n",
    "batch_len = 200\n",
    "\n",
    "for i in range (0, 10201):\n",
    "    vector = x_train[i].flatten().tolist()\n",
    "    label = y_train[i].item()\n",
    "    docs_gen.append(convertDocuments(vector, {\"label\":label}))\n",
    "    \n",
    "    # send batch_len batches\n",
    "    if i%batch_len == 0:\n",
    "        # add documents to AquilaDB\n",
    "        response = addDocuments(docs_gen)\n",
    "        print(\"index: \"+str(i), \"inserted: \"+str(len(response._id)))\n",
    "        docs_gen = []\n",
    "        time.sleep(1)"
   ]
  },
  {
   "cell_type": "markdown",
   "metadata": {},
   "source": [
    "#### find nearest neighbour\n",
    "\n",
    "Hopefully, you were able to insert images into DB. Now let's query the DB. We will give it an image and will expect the DB to return similar looking images back."
   ]
  },
  {
   "cell_type": "markdown",
   "metadata": {},
   "source": [
    "##### Search nearest neighbours"
   ]
  },
  {
   "cell_type": "code",
   "execution_count": 97,
   "metadata": {},
   "outputs": [
    {
     "data": {
      "image/png": "[encoded data removed]",
      "text/plain": [
       "<Figure size 432x288 with 1 Axes>"
      ]
     },
     "metadata": {
      "needs_background": "light"
     },
     "output_type": "display_data"
    }
   ],
   "source": [
    "# how many similar images we want in return \n",
    "k_in = 5\n",
    "\n",
    "# what is our example image from the dataset?\n",
    "index = 40000\n",
    "\n",
    "# flatten the input image\n",
    "vector_to_convert = x_train[index].flatten().tolist()\n",
    "label_to_convert = y_train[index]\n",
    "\n",
    "# display query image\n",
    "pixels = x_train[index]\n",
    "plt.title('Label is {label}'.format(label=label_to_convert))\n",
    "plt.imshow(pixels, cmap='gray')\n",
    "plt.show()\n",
    "\n",
    "# search for nearest results\n",
    "converted_vector = convertMatrix(vector_to_convert)\n",
    "nearest_docs_result = getNearest(converted_vector, k_in)\n",
    "nearest_docs_result = json.loads(nearest_docs_result.documents)"
   ]
  },
  {
   "cell_type": "code",
   "execution_count": 99,
   "metadata": {},
   "outputs": [
    {
     "name": "stdout",
     "output_type": "stream",
     "text": [
      "47522d089f986f4571faaa2782ff59e7 7\n",
      "ef24c3659e1c6faa66b8a9b029327d48 7\n",
      "e574ccd989fc0d533e5c694e21916284 7\n",
      "d094352a6c22702ad681396bb0be33b9 7\n",
      "6e2d8145854453cee0d340ee237381dc 7\n"
     ]
    }
   ],
   "source": [
    "# See if the labels are the same\n",
    "for doc in nearest_docs_result:\n",
    "    # ids are printed to make sure that the resulting documents are different\n",
    "    print(doc[\"id\"], doc[\"doc\"][\"label\"])"
   ]
  },
  {
   "cell_type": "code",
   "execution_count": 100,
   "metadata": {},
   "outputs": [
    {
     "data": {
      "image/png": "[encoded data removed]",
      "text/plain": [
       "<Figure size 432x288 with 1 Axes>"
      ]
     },
     "metadata": {
      "needs_background": "light"
     },
     "output_type": "display_data"
    },
    {
     "data": {
      "image/png": "[encoded data removed]",
      "text/plain": [
       "<Figure size 432x288 with 1 Axes>"
      ]
     },
     "metadata": {
      "needs_background": "light"
     },
     "output_type": "display_data"
    },
    {
     "data": {
      "image/png": "[encoded data removed]",
      "text/plain": [
       "<Figure size 432x288 with 1 Axes>"
      ]
     },
     "metadata": {
      "needs_background": "light"
     },
     "output_type": "display_data"
    },
    {
     "data": {
      "image/png": "[encoded data removed]",
      "text/plain": [
       "<Figure size 432x288 with 1 Axes>"
      ]
     },
     "metadata": {
      "needs_background": "light"
     },
     "output_type": "display_data"
    },
    {
     "data": {
      "image/png": "[encoded data removed]",
      "text/plain": [
       "<Figure size 432x288 with 1 Axes>"
      ]
     },
     "metadata": {
      "needs_background": "light"
     },
     "output_type": "display_data"
    }
   ],
   "source": [
    "# see if the images are correct\n",
    "for doc in nearest_docs_result:\n",
    "    image_ = doc[\"doc\"][\"vector\"]\n",
    "    label_ = doc[\"doc\"][\"label\"]\n",
    "    # draw image\n",
    "    label = label_\n",
    "    pixels = np.resize(np.array(image_),(28,28))\n",
    "    plt.title('Label is {label}'.format(label=label))\n",
    "    plt.imshow(pixels, cmap='gray')\n",
    "    plt.show()"
   ]
  },
  {
   "cell_type": "markdown",
   "metadata": {},
   "source": [
    "That's all for this tutorial. Thanks, happy hacking..!"
   ]
  }
 ],
 "metadata": {
  "kernelspec": {
   "display_name": "Python 3",
   "language": "python",
   "name": "python3"
  },
  "language_info": {
   "codemirror_mode": {
    "name": "ipython",
    "version": 3
   },
   "file_extension": ".py",
   "mimetype": "text/x-python",
   "name": "python",
   "nbconvert_exporter": "python",
   "pygments_lexer": "ipython3",
   "version": "3.7.3"
  }
 },
 "nbformat": 4,
 "nbformat_minor": 2
}
